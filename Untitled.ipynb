{
 "cells": [
  {
   "cell_type": "code",
   "execution_count": 1,
   "metadata": {},
   "outputs": [
    {
     "name": "stdout",
     "output_type": "stream",
     "text": [
      "url: http://www.webscrapingfordatascience.com/paramhttp/?query=a%20query%20with%20spaces\n",
      "request headers: {'User-Agent': 'python-requests/2.24.0', 'Accept-Encoding': 'gzip, deflate', 'Accept': '*/*', 'Connection': 'keep-alive'}\n",
      "\n",
      "status code: 200\n",
      "reason: OK\n",
      "\n",
      "headers: {'Date': 'Fri, 15 Jan 2021 10:16:43 GMT', 'Server': 'Apache/2.4.41 (Ubuntu)', 'Content-Length': '53', 'Keep-Alive': 'timeout=5, max=100', 'Connection': 'Keep-Alive', 'Content-Type': 'text/html; charset=UTF-8'}\n",
      "\n",
      "text: I don't have any information on \"a query with spaces\"\n"
     ]
    }
   ],
   "source": [
    "import requests\n",
    "from urllib.parse import quote, quote_plus\n",
    "\n",
    "# Simple request with url parameter\n",
    "url = 'http://www.webscrapingfordatascience.com/paramhttp/?query=a query with spaces'\n",
    "r = requests.get(url)\n",
    "\n",
    "print('url: {}'.format(r.request.url))\n",
    "print('request headers: {}\\n'.format(r.request.headers))\n",
    "\n",
    "print('status code: {}'.format(r.status_code))\n",
    "print('reason: {}\\n'.format(r.reason))\n",
    "print('headers: {}\\n'.format(r.headers))\n",
    "print('text: {}'.format(r.text))"
   ]
  },
  {
   "cell_type": "code",
   "execution_count": 2,
   "metadata": {},
   "outputs": [
    {
     "name": "stdout",
     "output_type": "stream",
     "text": [
      "a%20query%20with%20/%2C%20spaces%20and%3F%26\n",
      "a+query+with+%2F%2C+spaces+and%3F%26\n"
     ]
    }
   ],
   "source": [
    "# url encoding\n",
    "raw_string = 'a query with /, spaces and?&'\n",
    "print(quote(raw_string))\n",
    "print(quote_plus(raw_string))"
   ]
  },
  {
   "cell_type": "code",
   "execution_count": 3,
   "metadata": {},
   "outputs": [
    {
     "name": "stdout",
     "output_type": "stream",
     "text": [
      "http://www.webscrapingfordatascience.com/paramhttp/?query=a+query+with+%2F%2C+spaces+and%3F%26\n",
      "I don't have any information on \"a query with /, spaces and?&\"\n"
     ]
    }
   ],
   "source": [
    "# passing in parameters using 'params'\n",
    "url = 'http://www.webscrapingfordatascience.com/paramhttp/'\n",
    "parameters = {\n",
    "    'query': 'a query with /, spaces and?&'\n",
    "}\n",
    "r = requests.get(url, params=parameters)\n",
    "print(r.url)\n",
    "print(r.text)"
   ]
  },
  {
   "cell_type": "code",
   "execution_count": 5,
   "metadata": {},
   "outputs": [
    {
     "name": "stdout",
     "output_type": "stream",
     "text": [
      "http://www.example.com/?spaces |pipe\n"
     ]
    }
   ],
   "source": [
    "# override requests to not encode:\n",
    "import requests\n",
    "from urllib.parse import unquote\n",
    "class NonEncodedSession(requests.Session):\n",
    "    # Override the default send method\n",
    "    def send(self, *a, **kw):\n",
    "        # Revert the encoding which was applied\n",
    "        a[0].url = unquote(a[0].url)\n",
    "        return requests.Session.send(self, *a, **kw)\n",
    "\n",
    "\n",
    "my_requests = NonEncodedSession()\n",
    "url = 'http://www.example.com/?spaces |pipe'\n",
    "r = my_requests.get(url)\n",
    "print(r.url)"
   ]
  },
  {
   "cell_type": "code",
   "execution_count": null,
   "metadata": {},
   "outputs": [],
   "source": []
  }
 ],
 "metadata": {
  "kernelspec": {
   "display_name": "Python 3",
   "language": "python",
   "name": "python3"
  },
  "language_info": {
   "codemirror_mode": {
    "name": "ipython",
    "version": 3
   },
   "file_extension": ".py",
   "mimetype": "text/x-python",
   "name": "python",
   "nbconvert_exporter": "python",
   "pygments_lexer": "ipython3",
   "version": "3.8.5"
  }
 },
 "nbformat": 4,
 "nbformat_minor": 4
}
